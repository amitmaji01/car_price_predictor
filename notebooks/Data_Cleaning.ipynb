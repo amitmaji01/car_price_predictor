{
 "cells": [
  {
   "cell_type": "markdown",
   "id": "2d31b755",
   "metadata": {
    "toc": true
   },
   "source": [
    "<h1>Table of Contents<span class=\"tocSkip\"></span></h1>\n",
    "<div class=\"toc\"><ul class=\"toc-item\"><li><span><a href=\"#Objective-&amp;-Summary\" data-toc-modified-id=\"Objective-&amp;-Summary-1\"><span class=\"toc-item-num\">1&nbsp;&nbsp;</span>Objective &amp; Summary</a></span></li><li><span><a href=\"#Importing-libraries-and-files\" data-toc-modified-id=\"Importing-libraries-and-files-2\"><span class=\"toc-item-num\">2&nbsp;&nbsp;</span>Importing libraries and files</a></span></li><li><span><a href=\"#Raw-data\" data-toc-modified-id=\"Raw-data-3\"><span class=\"toc-item-num\">3&nbsp;&nbsp;</span>Raw data</a></span><ul class=\"toc-item\"><li><span><a href=\"#Removing-duplicates\" data-toc-modified-id=\"Removing-duplicates-3.1\"><span class=\"toc-item-num\">3.1&nbsp;&nbsp;</span>Removing duplicates</a></span></li></ul></li><li><span><a href=\"#Cleaning-columns\" data-toc-modified-id=\"Cleaning-columns-4\"><span class=\"toc-item-num\">4&nbsp;&nbsp;</span>Cleaning columns</a></span><ul class=\"toc-item\"><li><span><a href=\"#Column:-'title'\" data-toc-modified-id=\"Column:-'title'-4.1\"><span class=\"toc-item-num\">4.1&nbsp;&nbsp;</span>Column: 'title'</a></span></li><li><span><a href=\"#Column:-'Location'\" data-toc-modified-id=\"Column:-'Location'-4.2\"><span class=\"toc-item-num\">4.2&nbsp;&nbsp;</span>Column: 'Location'</a></span></li><li><span><a href=\"#Column:-'Details'\" data-toc-modified-id=\"Column:-'Details'-4.3\"><span class=\"toc-item-num\">4.3&nbsp;&nbsp;</span>Column: 'Details'</a></span></li></ul></li><li><span><a href=\"#Next-Step\" data-toc-modified-id=\"Next-Step-5\"><span class=\"toc-item-num\">5&nbsp;&nbsp;</span>Next Step</a></span></li></ul></div>"
   ]
  },
  {
   "cell_type": "markdown",
   "id": "219d8711",
   "metadata": {},
   "source": [
    "# Objective & Summary\n",
    "To import raw data file after web scrapping (cargurus.com). Understand data and extract important information into clean columns. Data cleaning is a iterative process for EDA(exploratory data analysis) and model building. This is very first step of data cleaning where new columns are made with clean data set."
   ]
  },
  {
   "cell_type": "markdown",
   "id": "1191f40f",
   "metadata": {},
   "source": [
    "# Importing libraries and files \n",
    "Importing pandas library to work on data frame and setting up environment for further processing."
   ]
  },
  {
   "cell_type": "code",
   "execution_count": 1,
   "id": "3032e22e",
   "metadata": {},
   "outputs": [],
   "source": [
    "import pandas as pd\n",
    "# turning off warnings for the notebook\n",
    "import warnings\n",
    "warnings.filterwarnings('ignore')\n",
    "\n",
    "pd.set_option('display.max_rows', None)\n",
    "pd.set_option('display.max_columns', None)"
   ]
  },
  {
   "cell_type": "markdown",
   "id": "40950967",
   "metadata": {},
   "source": [
    "Importing raw data file here."
   ]
  },
  {
   "cell_type": "code",
   "execution_count": 2,
   "id": "772a4cdd",
   "metadata": {},
   "outputs": [],
   "source": [
    "df_car = pd.read_csv('data.csv')"
   ]
  },
  {
   "cell_type": "markdown",
   "id": "42a44771",
   "metadata": {},
   "source": [
    "# Raw data\n",
    "Now lets take a look at our data using .head() function. It will show us top 5 rows of data frame. "
   ]
  },
  {
   "cell_type": "code",
   "execution_count": 3,
   "id": "37f1d59c",
   "metadata": {
    "scrolled": false
   },
   "outputs": [
    {
     "data": {
      "text/html": [
       "<div>\n",
       "<style scoped>\n",
       "    .dataframe tbody tr th:only-of-type {\n",
       "        vertical-align: middle;\n",
       "    }\n",
       "\n",
       "    .dataframe tbody tr th {\n",
       "        vertical-align: top;\n",
       "    }\n",
       "\n",
       "    .dataframe thead th {\n",
       "        text-align: right;\n",
       "    }\n",
       "</style>\n",
       "<table border=\"1\" class=\"dataframe\">\n",
       "  <thead>\n",
       "    <tr style=\"text-align: right;\">\n",
       "      <th></th>\n",
       "      <th>Car Title</th>\n",
       "      <th>Location</th>\n",
       "      <th>Details</th>\n",
       "      <th>Dealer</th>\n",
       "      <th>Contact</th>\n",
       "      <th>Description</th>\n",
       "    </tr>\n",
       "  </thead>\n",
       "  <tbody>\n",
       "    <tr>\n",
       "      <th>0</th>\n",
       "      <td>2017 Mercedes-Benz GLS-Class GLS 450 4MATIC AW...</td>\n",
       "      <td>Murrieta, CA · 71 mi away</td>\n",
       "      <td>Dealer's Price:\\n$36,999\\nLocation:\\nMurrieta,...</td>\n",
       "      <td>Abramovich Motors</td>\n",
       "      <td>(951) 307-1720</td>\n",
       "      <td>Dealer's Description\\nTravel in style behind t...</td>\n",
       "    </tr>\n",
       "    <tr>\n",
       "      <th>1</th>\n",
       "      <td>2017 Chevrolet Tahoe Premier RWD - $39,415</td>\n",
       "      <td>Colton, CA · 52 mi away</td>\n",
       "      <td>Dealer's Price:\\n$39,415\\nLocation:\\nColton, C...</td>\n",
       "      <td>Avis Car Sales - Colton</td>\n",
       "      <td>(951) 484-1038</td>\n",
       "      <td>Dealer's Description\\nCARFAX One-Owner. Clean ...</td>\n",
       "    </tr>\n",
       "    <tr>\n",
       "      <th>2</th>\n",
       "      <td>2020 Honda Accord 1.5T LX FWD - $19,697</td>\n",
       "      <td>Carson, CA · 13 mi away</td>\n",
       "      <td>Dealer's Price:\\n$19,697\\nLocation:\\nCarson, C...</td>\n",
       "      <td>Carson Honda</td>\n",
       "      <td>(657) 500-3739</td>\n",
       "      <td>Dealer's Description\\nWheels: 17\" Silver-Paint...</td>\n",
       "    </tr>\n",
       "    <tr>\n",
       "      <th>3</th>\n",
       "      <td>2017 Ford Explorer Limited - $24,799</td>\n",
       "      <td>Victorville, CA · 64 mi away</td>\n",
       "      <td>Dealer's Price:\\n$24,799\\nLocation:\\nVictorvil...</td>\n",
       "      <td>Avis Car Sales - Victorville</td>\n",
       "      <td>(442) 233-3364</td>\n",
       "      <td>Dealer's Description\\nCARFAX One-Owner. Clean ...</td>\n",
       "    </tr>\n",
       "    <tr>\n",
       "      <th>4</th>\n",
       "      <td>2017 Jeep Wrangler Sport - $24,299</td>\n",
       "      <td>Victorville, CA · 64 mi away</td>\n",
       "      <td>Dealer's Price:\\n$24,299\\nLocation:\\nVictorvil...</td>\n",
       "      <td>Avis Car Sales - Victorville</td>\n",
       "      <td>(442) 233-3364</td>\n",
       "      <td>Dealer's Description\\nCARFAX One-Owner. Clean ...</td>\n",
       "    </tr>\n",
       "  </tbody>\n",
       "</table>\n",
       "</div>"
      ],
      "text/plain": [
       "                                           Car Title  \\\n",
       "0  2017 Mercedes-Benz GLS-Class GLS 450 4MATIC AW...   \n",
       "1         2017 Chevrolet Tahoe Premier RWD - $39,415   \n",
       "2            2020 Honda Accord 1.5T LX FWD - $19,697   \n",
       "3               2017 Ford Explorer Limited - $24,799   \n",
       "4                 2017 Jeep Wrangler Sport - $24,299   \n",
       "\n",
       "                       Location  \\\n",
       "0     Murrieta, CA · 71 mi away   \n",
       "1       Colton, CA · 52 mi away   \n",
       "2       Carson, CA · 13 mi away   \n",
       "3  Victorville, CA · 64 mi away   \n",
       "4  Victorville, CA · 64 mi away   \n",
       "\n",
       "                                             Details  \\\n",
       "0  Dealer's Price:\\n$36,999\\nLocation:\\nMurrieta,...   \n",
       "1  Dealer's Price:\\n$39,415\\nLocation:\\nColton, C...   \n",
       "2  Dealer's Price:\\n$19,697\\nLocation:\\nCarson, C...   \n",
       "3  Dealer's Price:\\n$24,799\\nLocation:\\nVictorvil...   \n",
       "4  Dealer's Price:\\n$24,299\\nLocation:\\nVictorvil...   \n",
       "\n",
       "                         Dealer         Contact  \\\n",
       "0             Abramovich Motors  (951) 307-1720   \n",
       "1       Avis Car Sales - Colton  (951) 484-1038   \n",
       "2                  Carson Honda  (657) 500-3739   \n",
       "3  Avis Car Sales - Victorville  (442) 233-3364   \n",
       "4  Avis Car Sales - Victorville  (442) 233-3364   \n",
       "\n",
       "                                         Description  \n",
       "0  Dealer's Description\\nTravel in style behind t...  \n",
       "1  Dealer's Description\\nCARFAX One-Owner. Clean ...  \n",
       "2  Dealer's Description\\nWheels: 17\" Silver-Paint...  \n",
       "3  Dealer's Description\\nCARFAX One-Owner. Clean ...  \n",
       "4  Dealer's Description\\nCARFAX One-Owner. Clean ...  "
      ]
     },
     "metadata": {},
     "output_type": "display_data"
    }
   ],
   "source": [
    "display(df_car.head())\n"
   ]
  },
  {
   "cell_type": "markdown",
   "id": "02b3022c",
   "metadata": {},
   "source": [
    "Here we can see that column 'Car Title' has information of built year, model and price which needs to be extracted into separate columns. Similarly columns 'Location' and 'Details' needs to clean as they carry important information about the car."
   ]
  },
  {
   "cell_type": "markdown",
   "id": "0eb1535e",
   "metadata": {},
   "source": [
    "Here we are copying the data frame so that the original file remains unchanged during processing."
   ]
  },
  {
   "cell_type": "code",
   "execution_count": 4,
   "id": "d01bd64d",
   "metadata": {
    "scrolled": false
   },
   "outputs": [],
   "source": [
    "df = df_car.copy()"
   ]
  },
  {
   "cell_type": "code",
   "execution_count": 5,
   "id": "4588d1e0",
   "metadata": {},
   "outputs": [],
   "source": [
    "df.rename({'Car Title': 'title'}, axis=1, inplace=True)"
   ]
  },
  {
   "cell_type": "markdown",
   "id": "b6deccef",
   "metadata": {},
   "source": [
    "Actully, I am comfortable with nonspace feature names thats why I change Car Title to title"
   ]
  },
  {
   "cell_type": "markdown",
   "id": "e6e732be",
   "metadata": {},
   "source": [
    "Looking at our copied data frame (df) with changed column name."
   ]
  },
  {
   "cell_type": "code",
   "execution_count": 6,
   "id": "0da4de6e",
   "metadata": {},
   "outputs": [
    {
     "data": {
      "text/html": [
       "<div>\n",
       "<style scoped>\n",
       "    .dataframe tbody tr th:only-of-type {\n",
       "        vertical-align: middle;\n",
       "    }\n",
       "\n",
       "    .dataframe tbody tr th {\n",
       "        vertical-align: top;\n",
       "    }\n",
       "\n",
       "    .dataframe thead th {\n",
       "        text-align: right;\n",
       "    }\n",
       "</style>\n",
       "<table border=\"1\" class=\"dataframe\">\n",
       "  <thead>\n",
       "    <tr style=\"text-align: right;\">\n",
       "      <th></th>\n",
       "      <th>title</th>\n",
       "      <th>Location</th>\n",
       "      <th>Details</th>\n",
       "      <th>Dealer</th>\n",
       "      <th>Contact</th>\n",
       "      <th>Description</th>\n",
       "    </tr>\n",
       "  </thead>\n",
       "  <tbody>\n",
       "    <tr>\n",
       "      <th>0</th>\n",
       "      <td>2017 Mercedes-Benz GLS-Class GLS 450 4MATIC AW...</td>\n",
       "      <td>Murrieta, CA · 71 mi away</td>\n",
       "      <td>Dealer's Price:\\n$36,999\\nLocation:\\nMurrieta,...</td>\n",
       "      <td>Abramovich Motors</td>\n",
       "      <td>(951) 307-1720</td>\n",
       "      <td>Dealer's Description\\nTravel in style behind t...</td>\n",
       "    </tr>\n",
       "    <tr>\n",
       "      <th>1</th>\n",
       "      <td>2017 Chevrolet Tahoe Premier RWD - $39,415</td>\n",
       "      <td>Colton, CA · 52 mi away</td>\n",
       "      <td>Dealer's Price:\\n$39,415\\nLocation:\\nColton, C...</td>\n",
       "      <td>Avis Car Sales - Colton</td>\n",
       "      <td>(951) 484-1038</td>\n",
       "      <td>Dealer's Description\\nCARFAX One-Owner. Clean ...</td>\n",
       "    </tr>\n",
       "    <tr>\n",
       "      <th>2</th>\n",
       "      <td>2020 Honda Accord 1.5T LX FWD - $19,697</td>\n",
       "      <td>Carson, CA · 13 mi away</td>\n",
       "      <td>Dealer's Price:\\n$19,697\\nLocation:\\nCarson, C...</td>\n",
       "      <td>Carson Honda</td>\n",
       "      <td>(657) 500-3739</td>\n",
       "      <td>Dealer's Description\\nWheels: 17\" Silver-Paint...</td>\n",
       "    </tr>\n",
       "    <tr>\n",
       "      <th>3</th>\n",
       "      <td>2017 Ford Explorer Limited - $24,799</td>\n",
       "      <td>Victorville, CA · 64 mi away</td>\n",
       "      <td>Dealer's Price:\\n$24,799\\nLocation:\\nVictorvil...</td>\n",
       "      <td>Avis Car Sales - Victorville</td>\n",
       "      <td>(442) 233-3364</td>\n",
       "      <td>Dealer's Description\\nCARFAX One-Owner. Clean ...</td>\n",
       "    </tr>\n",
       "    <tr>\n",
       "      <th>4</th>\n",
       "      <td>2017 Jeep Wrangler Sport - $24,299</td>\n",
       "      <td>Victorville, CA · 64 mi away</td>\n",
       "      <td>Dealer's Price:\\n$24,299\\nLocation:\\nVictorvil...</td>\n",
       "      <td>Avis Car Sales - Victorville</td>\n",
       "      <td>(442) 233-3364</td>\n",
       "      <td>Dealer's Description\\nCARFAX One-Owner. Clean ...</td>\n",
       "    </tr>\n",
       "  </tbody>\n",
       "</table>\n",
       "</div>"
      ],
      "text/plain": [
       "                                               title  \\\n",
       "0  2017 Mercedes-Benz GLS-Class GLS 450 4MATIC AW...   \n",
       "1         2017 Chevrolet Tahoe Premier RWD - $39,415   \n",
       "2            2020 Honda Accord 1.5T LX FWD - $19,697   \n",
       "3               2017 Ford Explorer Limited - $24,799   \n",
       "4                 2017 Jeep Wrangler Sport - $24,299   \n",
       "\n",
       "                       Location  \\\n",
       "0     Murrieta, CA · 71 mi away   \n",
       "1       Colton, CA · 52 mi away   \n",
       "2       Carson, CA · 13 mi away   \n",
       "3  Victorville, CA · 64 mi away   \n",
       "4  Victorville, CA · 64 mi away   \n",
       "\n",
       "                                             Details  \\\n",
       "0  Dealer's Price:\\n$36,999\\nLocation:\\nMurrieta,...   \n",
       "1  Dealer's Price:\\n$39,415\\nLocation:\\nColton, C...   \n",
       "2  Dealer's Price:\\n$19,697\\nLocation:\\nCarson, C...   \n",
       "3  Dealer's Price:\\n$24,799\\nLocation:\\nVictorvil...   \n",
       "4  Dealer's Price:\\n$24,299\\nLocation:\\nVictorvil...   \n",
       "\n",
       "                         Dealer         Contact  \\\n",
       "0             Abramovich Motors  (951) 307-1720   \n",
       "1       Avis Car Sales - Colton  (951) 484-1038   \n",
       "2                  Carson Honda  (657) 500-3739   \n",
       "3  Avis Car Sales - Victorville  (442) 233-3364   \n",
       "4  Avis Car Sales - Victorville  (442) 233-3364   \n",
       "\n",
       "                                         Description  \n",
       "0  Dealer's Description\\nTravel in style behind t...  \n",
       "1  Dealer's Description\\nCARFAX One-Owner. Clean ...  \n",
       "2  Dealer's Description\\nWheels: 17\" Silver-Paint...  \n",
       "3  Dealer's Description\\nCARFAX One-Owner. Clean ...  \n",
       "4  Dealer's Description\\nCARFAX One-Owner. Clean ...  "
      ]
     },
     "metadata": {},
     "output_type": "display_data"
    }
   ],
   "source": [
    "display(df.head())"
   ]
  },
  {
   "cell_type": "markdown",
   "id": "0270ac95",
   "metadata": {},
   "source": [
    "Lets take a quick look at total number of rows and columns"
   ]
  },
  {
   "cell_type": "code",
   "execution_count": 7,
   "id": "577cef71",
   "metadata": {
    "scrolled": false
   },
   "outputs": [
    {
     "data": {
      "text/plain": [
       "(2897, 6)"
      ]
     },
     "execution_count": 7,
     "metadata": {},
     "output_type": "execute_result"
    }
   ],
   "source": [
    "df.shape\n",
    "#(rows,columns)"
   ]
  },
  {
   "cell_type": "markdown",
   "id": "7d23999e",
   "metadata": {},
   "source": [
    "In our code we used -1 to fill the data if no entry was found. Since 'title' and 'Details' are two important columns for the car so we are going to remove those rows with -1 as entry."
   ]
  },
  {
   "cell_type": "code",
   "execution_count": 8,
   "id": "ae51402c",
   "metadata": {},
   "outputs": [],
   "source": [
    "df = df[df['title'] != '-1']\n",
    "df = df[df['Details'] != '-1']"
   ]
  },
  {
   "cell_type": "markdown",
   "id": "b148feae",
   "metadata": {},
   "source": [
    "## Removing duplicates\n",
    "Now lets take a look if we have duplicated rows/entry in our df. "
   ]
  },
  {
   "cell_type": "code",
   "execution_count": 9,
   "id": "c4b0d128",
   "metadata": {},
   "outputs": [
    {
     "name": "stdout",
     "output_type": "stream",
     "text": [
      "No. of duplicated entries:  1267\n"
     ]
    },
    {
     "data": {
      "text/html": [
       "<div>\n",
       "<style scoped>\n",
       "    .dataframe tbody tr th:only-of-type {\n",
       "        vertical-align: middle;\n",
       "    }\n",
       "\n",
       "    .dataframe tbody tr th {\n",
       "        vertical-align: top;\n",
       "    }\n",
       "\n",
       "    .dataframe thead th {\n",
       "        text-align: right;\n",
       "    }\n",
       "</style>\n",
       "<table border=\"1\" class=\"dataframe\">\n",
       "  <thead>\n",
       "    <tr style=\"text-align: right;\">\n",
       "      <th></th>\n",
       "      <th>title</th>\n",
       "      <th>Location</th>\n",
       "      <th>Details</th>\n",
       "      <th>Dealer</th>\n",
       "      <th>Contact</th>\n",
       "      <th>Description</th>\n",
       "    </tr>\n",
       "  </thead>\n",
       "  <tbody>\n",
       "    <tr>\n",
       "      <th>224</th>\n",
       "      <td>2003 Chevrolet Corvette Convertible RWD - $17,900</td>\n",
       "      <td>Lawndale, CA · 10 mi away</td>\n",
       "      <td>Dealer's Price:\\n$17,900\\nLocation:\\nLawndale,...</td>\n",
       "      <td>Hawthorne Motors Express</td>\n",
       "      <td>(323) 772-6049</td>\n",
       "      <td>Dealer's Description\\nWith ultra-high performa...</td>\n",
       "    </tr>\n",
       "    <tr>\n",
       "      <th>1218</th>\n",
       "      <td>2003 Chevrolet Corvette Convertible RWD - $17,900</td>\n",
       "      <td>Lawndale, CA · 10 mi away</td>\n",
       "      <td>Dealer's Price:\\n$17,900\\nLocation:\\nLawndale,...</td>\n",
       "      <td>Hawthorne Motors Express</td>\n",
       "      <td>(323) 772-6049</td>\n",
       "      <td>Dealer's Description\\nWith ultra-high performa...</td>\n",
       "    </tr>\n",
       "    <tr>\n",
       "      <th>2086</th>\n",
       "      <td>2003 Chevrolet Corvette Convertible RWD - $17,900</td>\n",
       "      <td>Lawndale, CA · 10 mi away</td>\n",
       "      <td>Dealer's Price:\\n$17,900\\nLocation:\\nLawndale,...</td>\n",
       "      <td>Hawthorne Motors Express</td>\n",
       "      <td>(323) 772-6049</td>\n",
       "      <td>Dealer's Description\\nWith ultra-high performa...</td>\n",
       "    </tr>\n",
       "    <tr>\n",
       "      <th>189</th>\n",
       "      <td>2003 Jeep Wrangler X - $11,500</td>\n",
       "      <td>Covina, CA · 21 mi away</td>\n",
       "      <td>Dealer's Price:\\n$11,500\\nLocation:\\nCovina, C...</td>\n",
       "      <td>Alltech Autos</td>\n",
       "      <td>(626) 602-9487</td>\n",
       "      <td>Dealer's Description\\nAdditional Information\\n...</td>\n",
       "    </tr>\n",
       "    <tr>\n",
       "      <th>1184</th>\n",
       "      <td>2003 Jeep Wrangler X - $11,500</td>\n",
       "      <td>Covina, CA · 21 mi away</td>\n",
       "      <td>Dealer's Price:\\n$11,500\\nLocation:\\nCovina, C...</td>\n",
       "      <td>Alltech Autos</td>\n",
       "      <td>(626) 602-9487</td>\n",
       "      <td>Dealer's Description\\nAdditional Information\\n...</td>\n",
       "    </tr>\n",
       "  </tbody>\n",
       "</table>\n",
       "</div>"
      ],
      "text/plain": [
       "                                                  title  \\\n",
       "224   2003 Chevrolet Corvette Convertible RWD - $17,900   \n",
       "1218  2003 Chevrolet Corvette Convertible RWD - $17,900   \n",
       "2086  2003 Chevrolet Corvette Convertible RWD - $17,900   \n",
       "189                      2003 Jeep Wrangler X - $11,500   \n",
       "1184                     2003 Jeep Wrangler X - $11,500   \n",
       "\n",
       "                       Location  \\\n",
       "224   Lawndale, CA · 10 mi away   \n",
       "1218  Lawndale, CA · 10 mi away   \n",
       "2086  Lawndale, CA · 10 mi away   \n",
       "189     Covina, CA · 21 mi away   \n",
       "1184    Covina, CA · 21 mi away   \n",
       "\n",
       "                                                Details  \\\n",
       "224   Dealer's Price:\\n$17,900\\nLocation:\\nLawndale,...   \n",
       "1218  Dealer's Price:\\n$17,900\\nLocation:\\nLawndale,...   \n",
       "2086  Dealer's Price:\\n$17,900\\nLocation:\\nLawndale,...   \n",
       "189   Dealer's Price:\\n$11,500\\nLocation:\\nCovina, C...   \n",
       "1184  Dealer's Price:\\n$11,500\\nLocation:\\nCovina, C...   \n",
       "\n",
       "                        Dealer         Contact  \\\n",
       "224   Hawthorne Motors Express  (323) 772-6049   \n",
       "1218  Hawthorne Motors Express  (323) 772-6049   \n",
       "2086  Hawthorne Motors Express  (323) 772-6049   \n",
       "189              Alltech Autos  (626) 602-9487   \n",
       "1184             Alltech Autos  (626) 602-9487   \n",
       "\n",
       "                                            Description  \n",
       "224   Dealer's Description\\nWith ultra-high performa...  \n",
       "1218  Dealer's Description\\nWith ultra-high performa...  \n",
       "2086  Dealer's Description\\nWith ultra-high performa...  \n",
       "189   Dealer's Description\\nAdditional Information\\n...  \n",
       "1184  Dealer's Description\\nAdditional Information\\n...  "
      ]
     },
     "metadata": {},
     "output_type": "display_data"
    }
   ],
   "source": [
    "# generate count statistics of duplicate entries\n",
    "if len(df[df.duplicated()]) > 0:\n",
    "    print(\"No. of duplicated entries: \", len(df[df.duplicated()]))\n",
    "    display(df[df.duplicated(keep=False)].sort_values(by=list(df.columns)).head())\n",
    "else:\n",
    "    print(\"No duplicated entries found\")"
   ]
  },
  {
   "cell_type": "markdown",
   "id": "fbf546b7",
   "metadata": {},
   "source": [
    "Here we can see that we do have duplicated entries which needs to be removed. The function .drop_duplicates() does that in one line. "
   ]
  },
  {
   "cell_type": "code",
   "execution_count": 10,
   "id": "47383722",
   "metadata": {},
   "outputs": [],
   "source": [
    "df = df.drop_duplicates().reset_index(drop = True) #remove duplicate rows based on all columns"
   ]
  },
  {
   "cell_type": "markdown",
   "id": "03358595",
   "metadata": {},
   "source": [
    "Now lets take a quick look again at total rows and columns"
   ]
  },
  {
   "cell_type": "code",
   "execution_count": 11,
   "id": "ba7118d7",
   "metadata": {},
   "outputs": [
    {
     "data": {
      "text/plain": [
       "(1622, 6)"
      ]
     },
     "execution_count": 11,
     "metadata": {},
     "output_type": "execute_result"
    }
   ],
   "source": [
    "df.shape"
   ]
  },
  {
   "cell_type": "markdown",
   "id": "eb3bfe51",
   "metadata": {},
   "source": [
    "# Cleaning columns\n",
    "Lets break the 'title' column into price, model and year."
   ]
  },
  {
   "cell_type": "code",
   "execution_count": 12,
   "id": "fa12dfd0",
   "metadata": {},
   "outputs": [
    {
     "name": "stdout",
     "output_type": "stream",
     "text": [
      "<class 'pandas.core.frame.DataFrame'>\n",
      "RangeIndex: 1622 entries, 0 to 1621\n",
      "Data columns (total 6 columns):\n",
      " #   Column       Non-Null Count  Dtype \n",
      "---  ------       --------------  ----- \n",
      " 0   title        1622 non-null   object\n",
      " 1   Location     1622 non-null   object\n",
      " 2   Details      1622 non-null   object\n",
      " 3   Dealer       1622 non-null   object\n",
      " 4   Contact      1622 non-null   object\n",
      " 5   Description  1622 non-null   object\n",
      "dtypes: object(6)\n",
      "memory usage: 76.2+ KB\n"
     ]
    }
   ],
   "source": [
    "df.info()"
   ]
  },
  {
   "cell_type": "markdown",
   "id": "647f7809",
   "metadata": {},
   "source": [
    "## Column: 'title'\n"
   ]
  },
  {
   "cell_type": "code",
   "execution_count": 13,
   "id": "8170190d",
   "metadata": {},
   "outputs": [
    {
     "data": {
      "text/plain": [
       "'2017 Chevrolet Tahoe Premier RWD - $39,415'"
      ]
     },
     "execution_count": 13,
     "metadata": {},
     "output_type": "execute_result"
    }
   ],
   "source": [
    "df['title'][1]"
   ]
  },
  {
   "cell_type": "markdown",
   "id": "c7f53f93",
   "metadata": {},
   "source": [
    "We will use lambda function to break, edit and filter rows. "
   ]
  },
  {
   "cell_type": "code",
   "execution_count": 14,
   "id": "b9f3f6f3",
   "metadata": {},
   "outputs": [
    {
     "data": {
      "text/plain": [
       "0    $36,999\n",
       "1    $39,415\n",
       "2    $19,697\n",
       "3    $24,799\n",
       "4    $24,299\n",
       "Name: price($), dtype: object"
      ]
     },
     "execution_count": 14,
     "metadata": {},
     "output_type": "execute_result"
    }
   ],
   "source": [
    "df['price($)'] = df['title'].apply(lambda x: x.split(' ')[-1])\n",
    "df['price($)'].head()"
   ]
  },
  {
   "cell_type": "markdown",
   "id": "83e75f83",
   "metadata": {},
   "source": [
    "We need to remove $ and , signs and covert our data type into integer."
   ]
  },
  {
   "cell_type": "code",
   "execution_count": 15,
   "id": "32d8138f",
   "metadata": {},
   "outputs": [
    {
     "data": {
      "text/plain": [
       "0    36999\n",
       "1    39415\n",
       "2    19697\n",
       "3    24799\n",
       "4    24299\n",
       "Name: price($), dtype: int64"
      ]
     },
     "execution_count": 15,
     "metadata": {},
     "output_type": "execute_result"
    }
   ],
   "source": [
    "df['price($)'] = df['price($)'].apply(lambda x: int(x.replace('$','').replace(',',''))) #remove $ and ,\n",
    "df['price($)'].head()"
   ]
  },
  {
   "cell_type": "markdown",
   "id": "b0823100",
   "metadata": {},
   "source": [
    "Extracting year information below."
   ]
  },
  {
   "cell_type": "code",
   "execution_count": 16,
   "id": "fc15e871",
   "metadata": {},
   "outputs": [
    {
     "data": {
      "text/plain": [
       "0    2017\n",
       "1    2017\n",
       "2    2020\n",
       "3    2017\n",
       "4    2017\n",
       "Name: year, dtype: int64"
      ]
     },
     "execution_count": 16,
     "metadata": {},
     "output_type": "execute_result"
    }
   ],
   "source": [
    "df['year'] = df['title'].apply(lambda x: int(x.split(' ')[0]))\n",
    "df['year'].head()"
   ]
  },
  {
   "cell_type": "markdown",
   "id": "590b1869",
   "metadata": {},
   "source": [
    "Converting year into age of car."
   ]
  },
  {
   "cell_type": "code",
   "execution_count": 17,
   "id": "e83b09d0",
   "metadata": {},
   "outputs": [
    {
     "data": {
      "text/plain": [
       "0    7\n",
       "1    7\n",
       "2    4\n",
       "3    7\n",
       "4    7\n",
       "Name: age_of_car, dtype: int64"
      ]
     },
     "execution_count": 17,
     "metadata": {},
     "output_type": "execute_result"
    }
   ],
   "source": [
    "current_year = 2024;\n",
    "df['age_of_car'] = df['year'].apply(lambda x: current_year - x)\n",
    "df['age_of_car'].head()"
   ]
  },
  {
   "cell_type": "markdown",
   "id": "73e18c68",
   "metadata": {},
   "source": [
    "Extracting model of car from 'title' column below."
   ]
  },
  {
   "cell_type": "code",
   "execution_count": 18,
   "id": "63d3cfae",
   "metadata": {},
   "outputs": [
    {
     "data": {
      "text/plain": [
       "model\n",
       "Ford             153\n",
       "Chevrolet        145\n",
       "Toyota           136\n",
       "Honda            123\n",
       "Mercedes-Benz    102\n",
       "Nissan            98\n",
       "BMW               87\n",
       "Lexus             83\n",
       "Jeep              72\n",
       "Kia               59\n",
       "RAM               55\n",
       "GMC               53\n",
       "Audi              46\n",
       "Hyundai           40\n",
       "Dodge             38\n",
       "Mazda             37\n",
       "Acura             34\n",
       "Volkswagen        34\n",
       "Land              31\n",
       "Chrysler          28\n",
       "Subaru            25\n",
       "MINI              25\n",
       "Cadillac          24\n",
       "INFINITI          19\n",
       "Porsche           17\n",
       "Mitsubishi        10\n",
       "Volvo              9\n",
       "Jaguar             8\n",
       "Buick              7\n",
       "Maserati           4\n",
       "Scion              3\n",
       "Lincoln            3\n",
       "Tesla              2\n",
       "Bentley            2\n",
       "Ferrari            2\n",
       "FIAT               2\n",
       "Genesis            2\n",
       "Alfa               2\n",
       "Rolls-Royce        1\n",
       "Aston              1\n",
       "Name: count, dtype: int64"
      ]
     },
     "execution_count": 18,
     "metadata": {},
     "output_type": "execute_result"
    }
   ],
   "source": [
    "df['model'] = df['title'].apply(lambda x: x.split(' ')[1])\n",
    "df['model'].value_counts()"
   ]
  },
  {
   "cell_type": "code",
   "execution_count": 19,
   "id": "83cd3931",
   "metadata": {},
   "outputs": [
    {
     "data": {
      "text/html": [
       "<div>\n",
       "<style scoped>\n",
       "    .dataframe tbody tr th:only-of-type {\n",
       "        vertical-align: middle;\n",
       "    }\n",
       "\n",
       "    .dataframe tbody tr th {\n",
       "        vertical-align: top;\n",
       "    }\n",
       "\n",
       "    .dataframe thead th {\n",
       "        text-align: right;\n",
       "    }\n",
       "</style>\n",
       "<table border=\"1\" class=\"dataframe\">\n",
       "  <thead>\n",
       "    <tr style=\"text-align: right;\">\n",
       "      <th></th>\n",
       "      <th>title</th>\n",
       "      <th>Location</th>\n",
       "      <th>Details</th>\n",
       "      <th>Dealer</th>\n",
       "      <th>Contact</th>\n",
       "      <th>Description</th>\n",
       "      <th>price($)</th>\n",
       "      <th>year</th>\n",
       "      <th>age_of_car</th>\n",
       "      <th>model</th>\n",
       "    </tr>\n",
       "  </thead>\n",
       "  <tbody>\n",
       "    <tr>\n",
       "      <th>0</th>\n",
       "      <td>2017 Mercedes-Benz GLS-Class GLS 450 4MATIC AW...</td>\n",
       "      <td>Murrieta, CA · 71 mi away</td>\n",
       "      <td>Dealer's Price:\\n$36,999\\nLocation:\\nMurrieta,...</td>\n",
       "      <td>Abramovich Motors</td>\n",
       "      <td>(951) 307-1720</td>\n",
       "      <td>Dealer's Description\\nTravel in style behind t...</td>\n",
       "      <td>36999</td>\n",
       "      <td>2017</td>\n",
       "      <td>7</td>\n",
       "      <td>Mercedes-Benz</td>\n",
       "    </tr>\n",
       "    <tr>\n",
       "      <th>1</th>\n",
       "      <td>2017 Chevrolet Tahoe Premier RWD - $39,415</td>\n",
       "      <td>Colton, CA · 52 mi away</td>\n",
       "      <td>Dealer's Price:\\n$39,415\\nLocation:\\nColton, C...</td>\n",
       "      <td>Avis Car Sales - Colton</td>\n",
       "      <td>(951) 484-1038</td>\n",
       "      <td>Dealer's Description\\nCARFAX One-Owner. Clean ...</td>\n",
       "      <td>39415</td>\n",
       "      <td>2017</td>\n",
       "      <td>7</td>\n",
       "      <td>Chevrolet</td>\n",
       "    </tr>\n",
       "    <tr>\n",
       "      <th>2</th>\n",
       "      <td>2020 Honda Accord 1.5T LX FWD - $19,697</td>\n",
       "      <td>Carson, CA · 13 mi away</td>\n",
       "      <td>Dealer's Price:\\n$19,697\\nLocation:\\nCarson, C...</td>\n",
       "      <td>Carson Honda</td>\n",
       "      <td>(657) 500-3739</td>\n",
       "      <td>Dealer's Description\\nWheels: 17\" Silver-Paint...</td>\n",
       "      <td>19697</td>\n",
       "      <td>2020</td>\n",
       "      <td>4</td>\n",
       "      <td>Honda</td>\n",
       "    </tr>\n",
       "    <tr>\n",
       "      <th>3</th>\n",
       "      <td>2017 Ford Explorer Limited - $24,799</td>\n",
       "      <td>Victorville, CA · 64 mi away</td>\n",
       "      <td>Dealer's Price:\\n$24,799\\nLocation:\\nVictorvil...</td>\n",
       "      <td>Avis Car Sales - Victorville</td>\n",
       "      <td>(442) 233-3364</td>\n",
       "      <td>Dealer's Description\\nCARFAX One-Owner. Clean ...</td>\n",
       "      <td>24799</td>\n",
       "      <td>2017</td>\n",
       "      <td>7</td>\n",
       "      <td>Ford</td>\n",
       "    </tr>\n",
       "    <tr>\n",
       "      <th>4</th>\n",
       "      <td>2017 Jeep Wrangler Sport - $24,299</td>\n",
       "      <td>Victorville, CA · 64 mi away</td>\n",
       "      <td>Dealer's Price:\\n$24,299\\nLocation:\\nVictorvil...</td>\n",
       "      <td>Avis Car Sales - Victorville</td>\n",
       "      <td>(442) 233-3364</td>\n",
       "      <td>Dealer's Description\\nCARFAX One-Owner. Clean ...</td>\n",
       "      <td>24299</td>\n",
       "      <td>2017</td>\n",
       "      <td>7</td>\n",
       "      <td>Jeep</td>\n",
       "    </tr>\n",
       "  </tbody>\n",
       "</table>\n",
       "</div>"
      ],
      "text/plain": [
       "                                               title  \\\n",
       "0  2017 Mercedes-Benz GLS-Class GLS 450 4MATIC AW...   \n",
       "1         2017 Chevrolet Tahoe Premier RWD - $39,415   \n",
       "2            2020 Honda Accord 1.5T LX FWD - $19,697   \n",
       "3               2017 Ford Explorer Limited - $24,799   \n",
       "4                 2017 Jeep Wrangler Sport - $24,299   \n",
       "\n",
       "                       Location  \\\n",
       "0     Murrieta, CA · 71 mi away   \n",
       "1       Colton, CA · 52 mi away   \n",
       "2       Carson, CA · 13 mi away   \n",
       "3  Victorville, CA · 64 mi away   \n",
       "4  Victorville, CA · 64 mi away   \n",
       "\n",
       "                                             Details  \\\n",
       "0  Dealer's Price:\\n$36,999\\nLocation:\\nMurrieta,...   \n",
       "1  Dealer's Price:\\n$39,415\\nLocation:\\nColton, C...   \n",
       "2  Dealer's Price:\\n$19,697\\nLocation:\\nCarson, C...   \n",
       "3  Dealer's Price:\\n$24,799\\nLocation:\\nVictorvil...   \n",
       "4  Dealer's Price:\\n$24,299\\nLocation:\\nVictorvil...   \n",
       "\n",
       "                         Dealer         Contact  \\\n",
       "0             Abramovich Motors  (951) 307-1720   \n",
       "1       Avis Car Sales - Colton  (951) 484-1038   \n",
       "2                  Carson Honda  (657) 500-3739   \n",
       "3  Avis Car Sales - Victorville  (442) 233-3364   \n",
       "4  Avis Car Sales - Victorville  (442) 233-3364   \n",
       "\n",
       "                                         Description  price($)  year  \\\n",
       "0  Dealer's Description\\nTravel in style behind t...     36999  2017   \n",
       "1  Dealer's Description\\nCARFAX One-Owner. Clean ...     39415  2017   \n",
       "2  Dealer's Description\\nWheels: 17\" Silver-Paint...     19697  2020   \n",
       "3  Dealer's Description\\nCARFAX One-Owner. Clean ...     24799  2017   \n",
       "4  Dealer's Description\\nCARFAX One-Owner. Clean ...     24299  2017   \n",
       "\n",
       "   age_of_car          model  \n",
       "0           7  Mercedes-Benz  \n",
       "1           7      Chevrolet  \n",
       "2           4          Honda  \n",
       "3           7           Ford  \n",
       "4           7           Jeep  "
      ]
     },
     "execution_count": 19,
     "metadata": {},
     "output_type": "execute_result"
    }
   ],
   "source": [
    "df.head(5)"
   ]
  },
  {
   "cell_type": "markdown",
   "id": "71e0f153",
   "metadata": {},
   "source": [
    "I have extracted the important information from 'title' column into year, price and model. Lets move on to 'Location' column."
   ]
  },
  {
   "cell_type": "markdown",
   "id": "acb925b9",
   "metadata": {},
   "source": [
    "## Column: 'Location'\n"
   ]
  },
  {
   "cell_type": "code",
   "execution_count": 20,
   "id": "0873ccb9",
   "metadata": {},
   "outputs": [
    {
     "data": {
      "text/plain": [
       "'Colton, CA · 52 mi away'"
      ]
     },
     "execution_count": 20,
     "metadata": {},
     "output_type": "execute_result"
    }
   ],
   "source": [
    "df['Location'][1]"
   ]
  },
  {
   "cell_type": "markdown",
   "id": "c1727836",
   "metadata": {},
   "source": [
    "I will just extract the state from the location column."
   ]
  },
  {
   "cell_type": "code",
   "execution_count": 21,
   "id": "3d8e7c97",
   "metadata": {},
   "outputs": [
    {
     "data": {
      "text/plain": [
       "location\n",
       "CA    1032\n",
       "WA     514\n",
       "-1      76\n",
       "Name: count, dtype: int64"
      ]
     },
     "execution_count": 21,
     "metadata": {},
     "output_type": "execute_result"
    }
   ],
   "source": [
    "df['location'] = df['Location'].apply(lambda x: x if len(x)<3 else x.split(',')[1].split()[0])\n",
    "df['location'].value_counts()"
   ]
  },
  {
   "cell_type": "markdown",
   "id": "cf2a7eb2",
   "metadata": {},
   "source": [
    "Lets move on to 'Details' column and take a look at what details does it carry. It is possible that in this column some information is missing for some of the rows as all user does not provide all the information. "
   ]
  },
  {
   "cell_type": "markdown",
   "id": "a753d3b5",
   "metadata": {},
   "source": [
    "## Column: 'Details'\n"
   ]
  },
  {
   "cell_type": "code",
   "execution_count": 22,
   "id": "a7a484a1",
   "metadata": {},
   "outputs": [
    {
     "data": {
      "text/plain": [
       "\"Dealer's Price:\\n$39,415\\nLocation:\\nColton, CA\\n52 mi away\\nMileage:\\n36,052 miles\\nTransmission:\\n6-Speed Automatic Overdrive\\nExterior Color:\\nBlack\\nInterior Color:\\nJet Black\\nEngine:\\nV8 Flex Fuel Vehicle\\nDrivetrain:\\n4X2\\nFuel Type:\\nFlex Fuel Vehicle\\nVIN:\\n1GNSCCKC9HR164743\\nStock #:\\n80506020\\nMajor Options:\\nLeather Seats, Power Package, Navigation System, Suspension Package, Alloy Wheels, Third Row Seating, Blind Spot Monitoring, Parking Sensors, Heated Seats, Android Auto, CarPlay, Bluetooth, Memory Package, Backup Camera, Remote Start\\nNHTSA Overall Safety Rating:\""
      ]
     },
     "execution_count": 22,
     "metadata": {},
     "output_type": "execute_result"
    }
   ],
   "source": [
    "df['Details'][1]"
   ]
  },
  {
   "cell_type": "markdown",
   "id": "6d1c8179",
   "metadata": {},
   "source": [
    "Below I am going to find the index of column which carries the longest detail information so that we don't miss any information."
   ]
  },
  {
   "cell_type": "code",
   "execution_count": 23,
   "id": "94cbdc85",
   "metadata": {},
   "outputs": [],
   "source": [
    "df['len_of details'] =df['Details'].apply(lambda x: len(x))\n",
    "index_detail = df['len_of details'].idxmax(axis=0) # gives index of max detail so nothing gets missing"
   ]
  },
  {
   "cell_type": "code",
   "execution_count": 24,
   "id": "33c1d9da",
   "metadata": {
    "scrolled": true
   },
   "outputs": [
    {
     "data": {
      "text/plain": [
       "\"Dealer's Price:\\n$40,888\\nLocation:\\nBeverly Hills, CA\\n9 mi away\\nMileage:\\n3,285 miles\\nTransmission:\\n8-Speed Automatic\\nExterior Color:\\nNightfall\\nInterior Color:\\nBirch Nuluxe[nu\\nGas Mileage:\\n20 MPG City\\n27 MPG Highway\\n23 MPG Combined\\nEngine:\\nV6\\nDrivetrain:\\nFront-Wheel Drive\\nFuel Type:\\nGasoline\\nVIN:\\n2T2AZMAA1LC160435\\nStock #:\\n5710P\\nMajor Options:\\nPerformance Package, Popular Equipment Package, Power Mirror Package, Power Package, Preferred Accessory Package, Preferred Equipment Package, Alloy Wheels, Preferred Package, Premium Audio Package, Blind Spot Monitoring, Parking Sensors, Premium Package, Heated Seats, Premium Sound Package, Android Auto, CarPlay, Luxury Package, Multi Zone Climate Control, Acoustical Package, Ambient Light Package, SE Package, Appearance Package, Audio Package, Cargo Package, Sound Package, Convenience Package, Sport Activity Package, Sport Package, Extra Value Package, Suspension Package, Technology Package, Graphics Package, Heat Package, Utility Package, Value Package, Light Package, Bluetooth, Backup Camera, Multimedia Package, Remote Start, Performance Handling Package\""
      ]
     },
     "execution_count": 24,
     "metadata": {},
     "output_type": "execute_result"
    }
   ],
   "source": [
    "df['Details'][index_detail] "
   ]
  },
  {
   "cell_type": "markdown",
   "id": "79d91ef0",
   "metadata": {},
   "source": [
    "From the above we can see that all the key information does have keyword before which is helpful in extracting the information. Below I am using a function to extract information based on the keyword.Here I use partition()"
   ]
  },
  {
   "cell_type": "code",
   "execution_count": 25,
   "id": "eb231a36",
   "metadata": {},
   "outputs": [],
   "source": [
    "def Details_parsing(Column, Keyword):\n",
    "    \"\"\"\n",
    "    This function cleans the info in Features Table. It takes\n",
    "    a keyword and checks every row of pandas series for a match.\n",
    "    The first word after the match is \n",
    "    stored in the column to be returned.\n",
    "    \"\"\" \n",
    "    col = Column.apply(lambda x: str(x).partition(Keyword)[2].partition('\\n')[2].partition('\\n')[0])\n",
    "    return col.apply(lambda x: -1 if len(x)<1 else x)"
   ]
  },
  {
   "cell_type": "markdown",
   "id": "3bdb9799",
   "metadata": {},
   "source": [
    "Extracting type of transmission in car below."
   ]
  },
  {
   "cell_type": "code",
   "execution_count": 26,
   "id": "fe2434dc",
   "metadata": {
    "scrolled": true
   },
   "outputs": [
    {
     "data": {
      "text/plain": [
       "0                             Automatic\n",
       "1           6-Speed Automatic Overdrive\n",
       "2    Continuously Variable Transmission\n",
       "3                     6-Speed Automatic\n",
       "4                     5-Speed Automatic\n",
       "Name: Transmission, dtype: object"
      ]
     },
     "execution_count": 26,
     "metadata": {},
     "output_type": "execute_result"
    }
   ],
   "source": [
    "df['Transmission'] = Details_parsing(df['Details'], 'Transmission')\n",
    "df['Transmission'].head()"
   ]
  },
  {
   "cell_type": "markdown",
   "id": "33b33ea8",
   "metadata": {},
   "source": [
    "Breaking different kind of transmission into two main categories : 'Automatic' and 'Manual'"
   ]
  },
  {
   "cell_type": "code",
   "execution_count": 52,
   "id": "bb668f32",
   "metadata": {},
   "outputs": [
    {
     "data": {
      "text/plain": [
       "Transmission\n",
       "Automatic    1371\n",
       "-1            214\n",
       "Manual         37\n",
       "Name: count, dtype: int64"
      ]
     },
     "execution_count": 52,
     "metadata": {},
     "output_type": "execute_result"
    }
   ],
   "source": [
    "df['Transmission'] = df['Transmission'].apply(lambda x: 'Automatic' if \"Automatic\" in str(x)  else('Manual' if \"Manual\" in str(x) else -1))\n",
    "df['Transmission'].value_counts()"
   ]
  },
  {
   "cell_type": "markdown",
   "id": "592fa3fd",
   "metadata": {},
   "source": [
    "Extracting mileage (miles) of car. This is a odometer reading."
   ]
  },
  {
   "cell_type": "code",
   "execution_count": 53,
   "id": "b1bcf4a9",
   "metadata": {},
   "outputs": [
    {
     "data": {
      "text/plain": [
       "0    30,336 miles\n",
       "1    36,052 miles\n",
       "2    17,000 miles\n",
       "3    39,221 miles\n",
       "4    33,961 miles\n",
       "Name: Mileage(miles), dtype: object"
      ]
     },
     "execution_count": 53,
     "metadata": {},
     "output_type": "execute_result"
    }
   ],
   "source": [
    "df['Mileage(miles)'] = Details_parsing(df['Details'], 'Mileage')\n",
    "df['Mileage(miles)'].head()"
   ]
  },
  {
   "cell_type": "markdown",
   "id": "67769c83",
   "metadata": {},
   "source": [
    "Cleaning the mileage column by removing , and miles."
   ]
  },
  {
   "cell_type": "code",
   "execution_count": 54,
   "id": "8c662a41",
   "metadata": {},
   "outputs": [
    {
     "data": {
      "text/plain": [
       "0    30336\n",
       "1    36052\n",
       "2    17000\n",
       "3    39221\n",
       "4    33961\n",
       "Name: Mileage(miles), dtype: int64"
      ]
     },
     "execution_count": 54,
     "metadata": {},
     "output_type": "execute_result"
    }
   ],
   "source": [
    "df['Mileage(miles)'] = df['Mileage(miles)'].apply(lambda x: int(x.split(' ')[0].replace(',','')))\n",
    "df['Mileage(miles)'].head()"
   ]
  },
  {
   "cell_type": "markdown",
   "id": "6d64132d",
   "metadata": {},
   "source": [
    "Extracting exterior color of the car."
   ]
  },
  {
   "cell_type": "code",
   "execution_count": 55,
   "id": "b6310bc4",
   "metadata": {
    "scrolled": true
   },
   "outputs": [
    {
     "data": {
      "text/plain": [
       "Exterior_Color\n",
       "Black     198\n",
       "White     146\n",
       "Gray      114\n",
       "Silver     99\n",
       "-1         45\n",
       "Name: count, dtype: int64"
      ]
     },
     "execution_count": 55,
     "metadata": {},
     "output_type": "execute_result"
    }
   ],
   "source": [
    "df['Exterior_Color'] = Details_parsing(df['Details'], 'Exterior Color')\n",
    "df['Exterior_Color'].value_counts().head(5)"
   ]
  },
  {
   "cell_type": "markdown",
   "id": "652310aa",
   "metadata": {},
   "source": [
    "There are so many color but most car have 6 common color as described below. We will categorize all of them into 6 major colors below."
   ]
  },
  {
   "cell_type": "code",
   "execution_count": 56,
   "id": "c70a6d25",
   "metadata": {},
   "outputs": [],
   "source": [
    "def Color_sorting(Column):\n",
    "    Color = (\"Black\", \"White\", \"Silver\", \"Red\", \"Blue\", \"Gray\")\n",
    "    col1 = Column.apply(lambda x: \"Black\" if \"black\" in str(x).lower() else x)\n",
    "    col2 = col1.apply(lambda x: \"White\" if \"white\" in str(x).lower() else x)\n",
    "    col3 = col2.apply(lambda x: \"Gray\" if \"gray\" in str(x).lower() else x)\n",
    "    col4 = col3.apply(lambda x: \"Silver\" if \"silver\" in str(x).lower() else x)\n",
    "    col5 = col4.apply(lambda x: \"Red\" if \"red\" in str(x).lower() else x)\n",
    "    col6 = col5.apply(lambda x: \"Blue\" if \"blue\" in str(x).lower() else x)\n",
    "    col7 = col6.apply(lambda x: x if x in Color else -1)\n",
    "    return col7  ##cleans color "
   ]
  },
  {
   "cell_type": "code",
   "execution_count": 57,
   "id": "f8791b19",
   "metadata": {},
   "outputs": [
    {
     "data": {
      "text/plain": [
       "Exterior_Color\n",
       "Black     369\n",
       "White     352\n",
       "Silver    270\n",
       "Gray      245\n",
       "-1        181\n",
       "Blue      110\n",
       "Red        95\n",
       "Name: count, dtype: int64"
      ]
     },
     "execution_count": 57,
     "metadata": {},
     "output_type": "execute_result"
    }
   ],
   "source": [
    "df['Exterior_Color'] = Color_sorting(df['Exterior_Color'])\n",
    "df['Exterior_Color'].value_counts()"
   ]
  },
  {
   "cell_type": "markdown",
   "id": "e5097e54",
   "metadata": {},
   "source": [
    "Similarly for interior color of the car."
   ]
  },
  {
   "cell_type": "code",
   "execution_count": 58,
   "id": "8269ee87",
   "metadata": {},
   "outputs": [
    {
     "data": {
      "text/plain": [
       "0          Black\n",
       "1      Jet Black\n",
       "2          Black\n",
       "3    Ebony Black\n",
       "4          Black\n",
       "Name: Interior_Color, dtype: object"
      ]
     },
     "execution_count": 58,
     "metadata": {},
     "output_type": "execute_result"
    }
   ],
   "source": [
    "df['Interior_Color'] = Details_parsing(df['Details'], 'Interior Color')\n",
    "df['Interior_Color'].head()"
   ]
  },
  {
   "cell_type": "code",
   "execution_count": 59,
   "id": "6d0c6cf7",
   "metadata": {},
   "outputs": [
    {
     "data": {
      "text/plain": [
       "Interior_Color\n",
       "Black     1036\n",
       "-1         410\n",
       "Gray       139\n",
       "Red         17\n",
       "White       16\n",
       "Silver       4\n",
       "Name: count, dtype: int64"
      ]
     },
     "execution_count": 59,
     "metadata": {},
     "output_type": "execute_result"
    }
   ],
   "source": [
    "df['Interior_Color'] = Color_sorting(df['Interior_Color'])\n",
    "df['Interior_Color'].value_counts()"
   ]
  },
  {
   "cell_type": "markdown",
   "id": "efe1b818",
   "metadata": {},
   "source": [
    "Extracting the gas mileage of car. Information carries city, highway and combined mileage information."
   ]
  },
  {
   "cell_type": "code",
   "execution_count": 60,
   "id": "ff74c5cd",
   "metadata": {},
   "outputs": [
    {
     "data": {
      "text/plain": [
       "0    17 MPG City\n",
       "1             -1\n",
       "2    30 MPG City\n",
       "3    17 MPG City\n",
       "4    17 MPG City\n",
       "Name: Gas_mileage_city(MPG), dtype: object"
      ]
     },
     "execution_count": 60,
     "metadata": {},
     "output_type": "execute_result"
    }
   ],
   "source": [
    "df['Gas_mileage_city(MPG)'] = Details_parsing(df['Details'], 'Gas Mileage')\n",
    "df['Gas_mileage_city(MPG)'].head()"
   ]
  },
  {
   "cell_type": "markdown",
   "id": "807b553f",
   "metadata": {},
   "source": [
    "Cleaning the column by removing MPG and City."
   ]
  },
  {
   "cell_type": "code",
   "execution_count": 62,
   "id": "cbf7880e",
   "metadata": {},
   "outputs": [
    {
     "data": {
      "text/plain": [
       "0    17\n",
       "1    -1\n",
       "2    30\n",
       "3    17\n",
       "4    17\n",
       "Name: Gas_mileage_city(MPG), dtype: int64"
      ]
     },
     "execution_count": 62,
     "metadata": {},
     "output_type": "execute_result"
    }
   ],
   "source": [
    "df['Gas_mileage_city(MPG)'] = df['Gas_mileage_city(MPG)'].apply(lambda x: int(str(x).split(' MPG')[0]))\n",
    "df['Gas_mileage_city(MPG)'].head()"
   ]
  },
  {
   "cell_type": "code",
   "execution_count": 63,
   "id": "dcf1690a",
   "metadata": {},
   "outputs": [
    {
     "data": {
      "text/plain": [
       "0    22 MPG Highway\n",
       "1                -1\n",
       "2    38 MPG Highway\n",
       "3    24 MPG Highway\n",
       "4    21 MPG Highway\n",
       "Name: Gas_mileage_HW(MPG), dtype: object"
      ]
     },
     "execution_count": 63,
     "metadata": {},
     "output_type": "execute_result"
    }
   ],
   "source": [
    "df['Gas_mileage_HW(MPG)'] = Details_parsing(df['Details'], 'MPG City')\n",
    "df['Gas_mileage_HW(MPG)'].head()"
   ]
  },
  {
   "cell_type": "code",
   "execution_count": 64,
   "id": "5a6c937c",
   "metadata": {},
   "outputs": [
    {
     "data": {
      "text/plain": [
       "0    22\n",
       "1    -1\n",
       "2    38\n",
       "3    24\n",
       "4    21\n",
       "Name: Gas_mileage_HW(MPG), dtype: int64"
      ]
     },
     "execution_count": 64,
     "metadata": {},
     "output_type": "execute_result"
    }
   ],
   "source": [
    "df['Gas_mileage_HW(MPG)'] = df['Gas_mileage_HW(MPG)'].apply(lambda x: int(str(x).split(' MPG')[0]))\n",
    "df['Gas_mileage_HW(MPG)'].head()"
   ]
  },
  {
   "cell_type": "code",
   "execution_count": 65,
   "id": "d18c505b",
   "metadata": {},
   "outputs": [
    {
     "data": {
      "text/plain": [
       "0    19 MPG Combined\n",
       "1                 -1\n",
       "2    33 MPG Combined\n",
       "3    20 MPG Combined\n",
       "4    18 MPG Combined\n",
       "Name: Gas_mileage_comb(MPG), dtype: object"
      ]
     },
     "execution_count": 65,
     "metadata": {},
     "output_type": "execute_result"
    }
   ],
   "source": [
    "df['Gas_mileage_comb(MPG)'] = Details_parsing(df['Details'], 'MPG Highway')\n",
    "df['Gas_mileage_comb(MPG)'].head()"
   ]
  },
  {
   "cell_type": "code",
   "execution_count": 67,
   "id": "456034b7",
   "metadata": {},
   "outputs": [
    {
     "data": {
      "text/plain": [
       "0    19\n",
       "1    -1\n",
       "2    33\n",
       "3    20\n",
       "4    18\n",
       "Name: Gas_mileage_comb(MPG), dtype: int64"
      ]
     },
     "execution_count": 67,
     "metadata": {},
     "output_type": "execute_result"
    }
   ],
   "source": [
    "df['Gas_mileage_comb(MPG)'] = df['Gas_mileage_comb(MPG)'].apply(lambda x: int(str(x).split(' MPG')[0]))\n",
    "df['Gas_mileage_comb(MPG)'].head()"
   ]
  },
  {
   "cell_type": "markdown",
   "id": "99621a13",
   "metadata": {},
   "source": [
    "Extracting Engine inforamtion below."
   ]
  },
  {
   "cell_type": "code",
   "execution_count": 68,
   "id": "fd7bd140",
   "metadata": {},
   "outputs": [
    {
     "data": {
      "text/plain": [
       "0                      V6\n",
       "1    V8 Flex Fuel Vehicle\n",
       "2                      I4\n",
       "3                      V6\n",
       "4                      V6\n",
       "Name: Engine, dtype: object"
      ]
     },
     "execution_count": 68,
     "metadata": {},
     "output_type": "execute_result"
    }
   ],
   "source": [
    "df['Engine'] = Details_parsing(df['Details'], 'Engine')\n",
    "df['Engine'].head()"
   ]
  },
  {
   "cell_type": "markdown",
   "id": "78b660ce",
   "metadata": {},
   "source": [
    "Simplifying the Engine information."
   ]
  },
  {
   "cell_type": "code",
   "execution_count": 69,
   "id": "692f9f9a",
   "metadata": {},
   "outputs": [
    {
     "data": {
      "text/plain": [
       "Engine\n",
       "I4     797\n",
       "V6     420\n",
       "V8     272\n",
       "-1      40\n",
       "I6      35\n",
       "H4      25\n",
       "I3      18\n",
       "I5       5\n",
       "H6       4\n",
       "V12      2\n",
       "I2       2\n",
       "V10      1\n",
       "W12      1\n",
       "Name: count, dtype: int64"
      ]
     },
     "execution_count": 69,
     "metadata": {},
     "output_type": "execute_result"
    }
   ],
   "source": [
    "df['Engine'] = df['Engine'].apply(lambda x: str(x).split()[0]) # required to get clean type\n",
    "df['Engine'].value_counts()"
   ]
  },
  {
   "cell_type": "markdown",
   "id": "abe8f5ab",
   "metadata": {},
   "source": [
    "Extracting type of drivetrain."
   ]
  },
  {
   "cell_type": "code",
   "execution_count": 70,
   "id": "1ed3434a",
   "metadata": {},
   "outputs": [
    {
     "data": {
      "text/plain": [
       "Drivetrain\n",
       "Front-Wheel Drive    653\n",
       "All-Wheel Drive      348\n",
       "Four-Wheel Drive     248\n",
       "Rear-Wheel Drive     233\n",
       "4X2                   79\n",
       "-1                    61\n",
       "Name: count, dtype: int64"
      ]
     },
     "execution_count": 70,
     "metadata": {},
     "output_type": "execute_result"
    }
   ],
   "source": [
    "df['Drivetrain'] = Details_parsing(df['Details'], 'Drivetrain')\n",
    "df['Drivetrain'].value_counts()"
   ]
  },
  {
   "cell_type": "markdown",
   "id": "4ac425a8",
   "metadata": {},
   "source": [
    "Merging 4X2 into FWD as the number of car with 4X2 drivetrain is less and FWD is a very common drivetrain. 4X2 can be FWD or RWD if not mentioned."
   ]
  },
  {
   "cell_type": "code",
   "execution_count": 71,
   "id": "1c22e2e9",
   "metadata": {},
   "outputs": [
    {
     "data": {
      "text/plain": [
       "Drivetrain\n",
       "Front-Wheel Drive    732\n",
       "All-Wheel Drive      348\n",
       "Four-Wheel Drive     248\n",
       "Rear-Wheel Drive     233\n",
       "-1                    61\n",
       "Name: count, dtype: int64"
      ]
     },
     "execution_count": 71,
     "metadata": {},
     "output_type": "execute_result"
    }
   ],
   "source": [
    "df['Drivetrain'] = df['Drivetrain'].apply(lambda x: 'Front-Wheel Drive' if x == '4X2' else x)\n",
    "df['Drivetrain'].value_counts()  #merging 4X2 into \"FWD\""
   ]
  },
  {
   "cell_type": "markdown",
   "id": "e70f6008",
   "metadata": {},
   "source": [
    "Extracting fuel type of the car."
   ]
  },
  {
   "cell_type": "code",
   "execution_count": 72,
   "id": "a60285fa",
   "metadata": {},
   "outputs": [
    {
     "data": {
      "text/plain": [
       "Fuel_type\n",
       "Gasoline             1420\n",
       "Flex Fuel Vehicle      79\n",
       "Hybrid                 39\n",
       "-1                     22\n",
       "Diesel                 22\n",
       "Biodiesel              22\n",
       "Electric               18\n",
       "Name: count, dtype: int64"
      ]
     },
     "execution_count": 72,
     "metadata": {},
     "output_type": "execute_result"
    }
   ],
   "source": [
    "df['Fuel_type'] = Details_parsing(df['Details'], 'Fuel Type')\n",
    "df['Fuel_type'].value_counts()"
   ]
  },
  {
   "cell_type": "markdown",
   "id": "51d57dc2",
   "metadata": {},
   "source": [
    "Lets take a look at Major option keyword in 'Details' column. It carries information of extra features which comes with car."
   ]
  },
  {
   "cell_type": "code",
   "execution_count": 73,
   "id": "3362ea0f",
   "metadata": {},
   "outputs": [
    {
     "data": {
      "text/plain": [
       "'Leather Seats, Power Package, Navigation System, Suspension Package, Alloy Wheels, Third Row Seating, Blind Spot Monitoring, Parking Sensors, Heated Seats, Android Auto, CarPlay, Bluetooth, Memory Package, Backup Camera, Remote Start'"
      ]
     },
     "execution_count": 73,
     "metadata": {},
     "output_type": "execute_result"
    }
   ],
   "source": [
    "df['Major Options'] = Details_parsing(df['Details'], 'Major Options')\n",
    "df['Major Options'][1]"
   ]
  },
  {
   "cell_type": "markdown",
   "id": "67f1e11d",
   "metadata": {},
   "source": [
    "Below I converted the key features into total number number of features a car has."
   ]
  },
  {
   "cell_type": "code",
   "execution_count": 74,
   "id": "a0e41639",
   "metadata": {},
   "outputs": [
    {
     "data": {
      "text/plain": [
       "0     5\n",
       "1    15\n",
       "2     5\n",
       "3     7\n",
       "4     1\n",
       "Name: No._of_features, dtype: int64"
      ]
     },
     "execution_count": 74,
     "metadata": {},
     "output_type": "execute_result"
    }
   ],
   "source": [
    "df['No._of_features'] = df['Major Options'].apply(lambda x: len(str(x).split(',')) if x!= -1 else x)\n",
    "df['No._of_features'].head()"
   ]
  },
  {
   "cell_type": "markdown",
   "id": "e107c0f0",
   "metadata": {},
   "source": [
    "For now I will just take the length of description."
   ]
  },
  {
   "cell_type": "code",
   "execution_count": 75,
   "id": "75528baf",
   "metadata": {},
   "outputs": [
    {
     "data": {
      "text/plain": [
       "0    2551\n",
       "1    6158\n",
       "2    2683\n",
       "3    3341\n",
       "4    2090\n",
       "Name: description_len, dtype: int64"
      ]
     },
     "execution_count": 75,
     "metadata": {},
     "output_type": "execute_result"
    }
   ],
   "source": [
    "df['description_len'] =df['Description'].apply(lambda x: len(x))\n",
    "df['description_len'].head()"
   ]
  },
  {
   "cell_type": "code",
   "execution_count": 49,
   "id": "f661bb4b",
   "metadata": {},
   "outputs": [],
   "source": [
    "# df_final = df.drop(columns=['title', 'year', 'Location', 'Details', 'Dealer', 'Contact', 'Description', 'len_of details', 'Major Options'])"
   ]
  },
  {
   "cell_type": "markdown",
   "id": "5a1058fb",
   "metadata": {},
   "source": [
    "Take a final look into cleaned data frame before saving for EDA."
   ]
  },
  {
   "cell_type": "code",
   "execution_count": 50,
   "id": "a8912957",
   "metadata": {
    "scrolled": false
   },
   "outputs": [
    {
     "data": {
      "text/html": [
       "<div>\n",
       "<style scoped>\n",
       "    .dataframe tbody tr th:only-of-type {\n",
       "        vertical-align: middle;\n",
       "    }\n",
       "\n",
       "    .dataframe tbody tr th {\n",
       "        vertical-align: top;\n",
       "    }\n",
       "\n",
       "    .dataframe thead th {\n",
       "        text-align: right;\n",
       "    }\n",
       "</style>\n",
       "<table border=\"1\" class=\"dataframe\">\n",
       "  <thead>\n",
       "    <tr style=\"text-align: right;\">\n",
       "      <th></th>\n",
       "      <th>title</th>\n",
       "      <th>Location</th>\n",
       "      <th>Details</th>\n",
       "      <th>Dealer</th>\n",
       "      <th>Contact</th>\n",
       "      <th>Description</th>\n",
       "      <th>price($)</th>\n",
       "      <th>year</th>\n",
       "      <th>age_of_car</th>\n",
       "      <th>model</th>\n",
       "      <th>location</th>\n",
       "      <th>len_of details</th>\n",
       "      <th>Transmission</th>\n",
       "      <th>Mileage(miles)</th>\n",
       "      <th>Exterior_Color</th>\n",
       "      <th>Interior_Color</th>\n",
       "      <th>Gas_mileage_city(MPG)</th>\n",
       "      <th>Gas_mileage_HW(MPG)</th>\n",
       "      <th>Gas_mileage_comb(MPG)</th>\n",
       "      <th>Engine</th>\n",
       "      <th>Drivetrain</th>\n",
       "      <th>Fuel_type</th>\n",
       "      <th>Major Options</th>\n",
       "      <th>No._of_features</th>\n",
       "      <th>description_len</th>\n",
       "    </tr>\n",
       "  </thead>\n",
       "  <tbody>\n",
       "    <tr>\n",
       "      <th>0</th>\n",
       "      <td>2017 Mercedes-Benz GLS-Class GLS 450 4MATIC AW...</td>\n",
       "      <td>Murrieta, CA · 71 mi away</td>\n",
       "      <td>Dealer's Price:\\n$36,999\\nLocation:\\nMurrieta,...</td>\n",
       "      <td>Abramovich Motors</td>\n",
       "      <td>(951) 307-1720</td>\n",
       "      <td>Dealer's Description\\nTravel in style behind t...</td>\n",
       "      <td>36999</td>\n",
       "      <td>2017</td>\n",
       "      <td>7</td>\n",
       "      <td>Mercedes-Benz</td>\n",
       "      <td>CA</td>\n",
       "      <td>412</td>\n",
       "      <td>Automatic</td>\n",
       "      <td>30336</td>\n",
       "      <td>Silver</td>\n",
       "      <td>Black</td>\n",
       "      <td>17</td>\n",
       "      <td>22</td>\n",
       "      <td>19</td>\n",
       "      <td>V6</td>\n",
       "      <td>All-Wheel Drive</td>\n",
       "      <td>Gasoline</td>\n",
       "      <td>Bluetooth, Backup Camera, Sunroof/Moonroof, He...</td>\n",
       "      <td>5</td>\n",
       "      <td>2551</td>\n",
       "    </tr>\n",
       "    <tr>\n",
       "      <th>1</th>\n",
       "      <td>2017 Chevrolet Tahoe Premier RWD - $39,415</td>\n",
       "      <td>Colton, CA · 52 mi away</td>\n",
       "      <td>Dealer's Price:\\n$39,415\\nLocation:\\nColton, C...</td>\n",
       "      <td>Avis Car Sales - Colton</td>\n",
       "      <td>(951) 484-1038</td>\n",
       "      <td>Dealer's Description\\nCARFAX One-Owner. Clean ...</td>\n",
       "      <td>39415</td>\n",
       "      <td>2017</td>\n",
       "      <td>7</td>\n",
       "      <td>Chevrolet</td>\n",
       "      <td>CA</td>\n",
       "      <td>560</td>\n",
       "      <td>Automatic</td>\n",
       "      <td>36052</td>\n",
       "      <td>Black</td>\n",
       "      <td>Black</td>\n",
       "      <td>-1</td>\n",
       "      <td>-1</td>\n",
       "      <td>-1</td>\n",
       "      <td>V8</td>\n",
       "      <td>Front-Wheel Drive</td>\n",
       "      <td>Flex Fuel Vehicle</td>\n",
       "      <td>Leather Seats, Power Package, Navigation Syste...</td>\n",
       "      <td>15</td>\n",
       "      <td>6158</td>\n",
       "    </tr>\n",
       "    <tr>\n",
       "      <th>2</th>\n",
       "      <td>2020 Honda Accord 1.5T LX FWD - $19,697</td>\n",
       "      <td>Carson, CA · 13 mi away</td>\n",
       "      <td>Dealer's Price:\\n$19,697\\nLocation:\\nCarson, C...</td>\n",
       "      <td>Carson Honda</td>\n",
       "      <td>(657) 500-3739</td>\n",
       "      <td>Dealer's Description\\nWheels: 17\" Silver-Paint...</td>\n",
       "      <td>19697</td>\n",
       "      <td>2020</td>\n",
       "      <td>4</td>\n",
       "      <td>Honda</td>\n",
       "      <td>CA</td>\n",
       "      <td>419</td>\n",
       "      <td>-1</td>\n",
       "      <td>17000</td>\n",
       "      <td>Gray</td>\n",
       "      <td>Black</td>\n",
       "      <td>30</td>\n",
       "      <td>38</td>\n",
       "      <td>33</td>\n",
       "      <td>I4</td>\n",
       "      <td>Front-Wheel Drive</td>\n",
       "      <td>Gasoline</td>\n",
       "      <td>Bluetooth, Backup Camera, Adaptive Cruise Cont...</td>\n",
       "      <td>5</td>\n",
       "      <td>2683</td>\n",
       "    </tr>\n",
       "    <tr>\n",
       "      <th>3</th>\n",
       "      <td>2017 Ford Explorer Limited - $24,799</td>\n",
       "      <td>Victorville, CA · 64 mi away</td>\n",
       "      <td>Dealer's Price:\\n$24,799\\nLocation:\\nVictorvil...</td>\n",
       "      <td>Avis Car Sales - Victorville</td>\n",
       "      <td>(442) 233-3364</td>\n",
       "      <td>Dealer's Description\\nCARFAX One-Owner. Clean ...</td>\n",
       "      <td>24799</td>\n",
       "      <td>2017</td>\n",
       "      <td>7</td>\n",
       "      <td>Ford</td>\n",
       "      <td>CA</td>\n",
       "      <td>468</td>\n",
       "      <td>Automatic</td>\n",
       "      <td>39221</td>\n",
       "      <td>Gray</td>\n",
       "      <td>Black</td>\n",
       "      <td>17</td>\n",
       "      <td>24</td>\n",
       "      <td>20</td>\n",
       "      <td>V6</td>\n",
       "      <td>Front-Wheel Drive</td>\n",
       "      <td>Gasoline</td>\n",
       "      <td>Navigation System, Alloy Wheels, Third Row Sea...</td>\n",
       "      <td>7</td>\n",
       "      <td>3341</td>\n",
       "    </tr>\n",
       "    <tr>\n",
       "      <th>4</th>\n",
       "      <td>2017 Jeep Wrangler Sport - $24,299</td>\n",
       "      <td>Victorville, CA · 64 mi away</td>\n",
       "      <td>Dealer's Price:\\n$24,299\\nLocation:\\nVictorvil...</td>\n",
       "      <td>Avis Car Sales - Victorville</td>\n",
       "      <td>(442) 233-3364</td>\n",
       "      <td>Dealer's Description\\nCARFAX One-Owner. Clean ...</td>\n",
       "      <td>24299</td>\n",
       "      <td>2017</td>\n",
       "      <td>7</td>\n",
       "      <td>Jeep</td>\n",
       "      <td>CA</td>\n",
       "      <td>343</td>\n",
       "      <td>Automatic</td>\n",
       "      <td>33961</td>\n",
       "      <td>White</td>\n",
       "      <td>Black</td>\n",
       "      <td>17</td>\n",
       "      <td>21</td>\n",
       "      <td>18</td>\n",
       "      <td>V6</td>\n",
       "      <td>Four-Wheel Drive</td>\n",
       "      <td>Gasoline</td>\n",
       "      <td>Steel Wheels</td>\n",
       "      <td>1</td>\n",
       "      <td>2090</td>\n",
       "    </tr>\n",
       "    <tr>\n",
       "      <th>5</th>\n",
       "      <td>2020 Mazda CX-9 Grand Touring AWD - $29,205</td>\n",
       "      <td>Colton, CA · 52 mi away</td>\n",
       "      <td>Dealer's Price:\\n$29,205\\nLocation:\\nColton, C...</td>\n",
       "      <td>Avis Car Sales - Colton</td>\n",
       "      <td>(951) 484-1038</td>\n",
       "      <td>Dealer's Description\\nCARFAX One-Owner. Clean ...</td>\n",
       "      <td>29205</td>\n",
       "      <td>2020</td>\n",
       "      <td>4</td>\n",
       "      <td>Mazda</td>\n",
       "      <td>CA</td>\n",
       "      <td>595</td>\n",
       "      <td>Automatic</td>\n",
       "      <td>38417</td>\n",
       "      <td>Silver</td>\n",
       "      <td>Black</td>\n",
       "      <td>20</td>\n",
       "      <td>26</td>\n",
       "      <td>22</td>\n",
       "      <td>I4</td>\n",
       "      <td>All-Wheel Drive</td>\n",
       "      <td>Gasoline</td>\n",
       "      <td>Leather Seats, Sunroof/Moonroof, Power Package...</td>\n",
       "      <td>14</td>\n",
       "      <td>4152</td>\n",
       "    </tr>\n",
       "    <tr>\n",
       "      <th>6</th>\n",
       "      <td>2017 Nissan Rogue SL FWD - $11,980</td>\n",
       "      <td>Palmdale, CA · 40 mi away</td>\n",
       "      <td>Dealer's Price:\\n$11,980\\nLocation:\\nPalmdale,...</td>\n",
       "      <td>Blue Rhino Motors II</td>\n",
       "      <td>(661) 762-5992</td>\n",
       "      <td>Dealer's Description\\nAll prices are cash only...</td>\n",
       "      <td>11980</td>\n",
       "      <td>2017</td>\n",
       "      <td>7</td>\n",
       "      <td>Nissan</td>\n",
       "      <td>CA</td>\n",
       "      <td>685</td>\n",
       "      <td>Automatic</td>\n",
       "      <td>115355</td>\n",
       "      <td>Silver</td>\n",
       "      <td>Black</td>\n",
       "      <td>26</td>\n",
       "      <td>33</td>\n",
       "      <td>29</td>\n",
       "      <td>I4</td>\n",
       "      <td>Front-Wheel Drive</td>\n",
       "      <td>Gasoline</td>\n",
       "      <td>Leather Seats, Sunroof/Moonroof, Power Package...</td>\n",
       "      <td>21</td>\n",
       "      <td>1027</td>\n",
       "    </tr>\n",
       "    <tr>\n",
       "      <th>7</th>\n",
       "      <td>2018 Chevrolet Tahoe Premier RWD - $40,899</td>\n",
       "      <td>Victorville, CA · 64 mi away</td>\n",
       "      <td>Dealer's Price:\\n$40,899\\nLocation:\\nVictorvil...</td>\n",
       "      <td>Avis Car Sales - Victorville</td>\n",
       "      <td>(442) 233-3364</td>\n",
       "      <td>Dealer's Description\\nCARFAX One-Owner. Clean ...</td>\n",
       "      <td>40899</td>\n",
       "      <td>2018</td>\n",
       "      <td>6</td>\n",
       "      <td>Chevrolet</td>\n",
       "      <td>CA</td>\n",
       "      <td>508</td>\n",
       "      <td>Automatic</td>\n",
       "      <td>27980</td>\n",
       "      <td>Black</td>\n",
       "      <td>-1</td>\n",
       "      <td>-1</td>\n",
       "      <td>-1</td>\n",
       "      <td>-1</td>\n",
       "      <td>V8</td>\n",
       "      <td>Front-Wheel Drive</td>\n",
       "      <td>Gasoline</td>\n",
       "      <td>Leather Seats, Navigation System, Suspension P...</td>\n",
       "      <td>13</td>\n",
       "      <td>4661</td>\n",
       "    </tr>\n",
       "    <tr>\n",
       "      <th>8</th>\n",
       "      <td>2018 Chevrolet Tahoe Premier RWD - $40,199</td>\n",
       "      <td>Victorville, CA · 64 mi away</td>\n",
       "      <td>Dealer's Price:\\n$40,199\\nLocation:\\nVictorvil...</td>\n",
       "      <td>Avis Car Sales - Victorville</td>\n",
       "      <td>(442) 233-3364</td>\n",
       "      <td>Dealer's Description\\nCARFAX One-Owner. Clean ...</td>\n",
       "      <td>40199</td>\n",
       "      <td>2018</td>\n",
       "      <td>6</td>\n",
       "      <td>Chevrolet</td>\n",
       "      <td>CA</td>\n",
       "      <td>525</td>\n",
       "      <td>Automatic</td>\n",
       "      <td>33232</td>\n",
       "      <td>Silver</td>\n",
       "      <td>-1</td>\n",
       "      <td>-1</td>\n",
       "      <td>-1</td>\n",
       "      <td>-1</td>\n",
       "      <td>V8</td>\n",
       "      <td>Front-Wheel Drive</td>\n",
       "      <td>Gasoline</td>\n",
       "      <td>Leather Seats, Navigation System, Suspension P...</td>\n",
       "      <td>14</td>\n",
       "      <td>4617</td>\n",
       "    </tr>\n",
       "    <tr>\n",
       "      <th>9</th>\n",
       "      <td>2020 Cadillac XT6 Premium Luxury FWD - $43,995</td>\n",
       "      <td>Torrance, CA · 12 mi away</td>\n",
       "      <td>Dealer's Price:\\n$43,995\\nLocation:\\nTorrance,...</td>\n",
       "      <td>Penske Cadillac of South Bay</td>\n",
       "      <td>(424) 306-0815</td>\n",
       "      <td>Dealer's Description\\nCrystal White Tricoat 20...</td>\n",
       "      <td>43995</td>\n",
       "      <td>2020</td>\n",
       "      <td>4</td>\n",
       "      <td>Cadillac</td>\n",
       "      <td>CA</td>\n",
       "      <td>649</td>\n",
       "      <td>Automatic</td>\n",
       "      <td>3046</td>\n",
       "      <td>White</td>\n",
       "      <td>Black</td>\n",
       "      <td>18</td>\n",
       "      <td>25</td>\n",
       "      <td>21</td>\n",
       "      <td>V6</td>\n",
       "      <td>Front-Wheel Drive</td>\n",
       "      <td>Gasoline</td>\n",
       "      <td>Leather Seats, Sunroof/Moonroof, Navigation Sy...</td>\n",
       "      <td>17</td>\n",
       "      <td>3689</td>\n",
       "    </tr>\n",
       "  </tbody>\n",
       "</table>\n",
       "</div>"
      ],
      "text/plain": [
       "                                               title  \\\n",
       "0  2017 Mercedes-Benz GLS-Class GLS 450 4MATIC AW...   \n",
       "1         2017 Chevrolet Tahoe Premier RWD - $39,415   \n",
       "2            2020 Honda Accord 1.5T LX FWD - $19,697   \n",
       "3               2017 Ford Explorer Limited - $24,799   \n",
       "4                 2017 Jeep Wrangler Sport - $24,299   \n",
       "5        2020 Mazda CX-9 Grand Touring AWD - $29,205   \n",
       "6                 2017 Nissan Rogue SL FWD - $11,980   \n",
       "7         2018 Chevrolet Tahoe Premier RWD - $40,899   \n",
       "8         2018 Chevrolet Tahoe Premier RWD - $40,199   \n",
       "9     2020 Cadillac XT6 Premium Luxury FWD - $43,995   \n",
       "\n",
       "                       Location  \\\n",
       "0     Murrieta, CA · 71 mi away   \n",
       "1       Colton, CA · 52 mi away   \n",
       "2       Carson, CA · 13 mi away   \n",
       "3  Victorville, CA · 64 mi away   \n",
       "4  Victorville, CA · 64 mi away   \n",
       "5       Colton, CA · 52 mi away   \n",
       "6     Palmdale, CA · 40 mi away   \n",
       "7  Victorville, CA · 64 mi away   \n",
       "8  Victorville, CA · 64 mi away   \n",
       "9     Torrance, CA · 12 mi away   \n",
       "\n",
       "                                             Details  \\\n",
       "0  Dealer's Price:\\n$36,999\\nLocation:\\nMurrieta,...   \n",
       "1  Dealer's Price:\\n$39,415\\nLocation:\\nColton, C...   \n",
       "2  Dealer's Price:\\n$19,697\\nLocation:\\nCarson, C...   \n",
       "3  Dealer's Price:\\n$24,799\\nLocation:\\nVictorvil...   \n",
       "4  Dealer's Price:\\n$24,299\\nLocation:\\nVictorvil...   \n",
       "5  Dealer's Price:\\n$29,205\\nLocation:\\nColton, C...   \n",
       "6  Dealer's Price:\\n$11,980\\nLocation:\\nPalmdale,...   \n",
       "7  Dealer's Price:\\n$40,899\\nLocation:\\nVictorvil...   \n",
       "8  Dealer's Price:\\n$40,199\\nLocation:\\nVictorvil...   \n",
       "9  Dealer's Price:\\n$43,995\\nLocation:\\nTorrance,...   \n",
       "\n",
       "                         Dealer         Contact  \\\n",
       "0             Abramovich Motors  (951) 307-1720   \n",
       "1       Avis Car Sales - Colton  (951) 484-1038   \n",
       "2                  Carson Honda  (657) 500-3739   \n",
       "3  Avis Car Sales - Victorville  (442) 233-3364   \n",
       "4  Avis Car Sales - Victorville  (442) 233-3364   \n",
       "5       Avis Car Sales - Colton  (951) 484-1038   \n",
       "6          Blue Rhino Motors II  (661) 762-5992   \n",
       "7  Avis Car Sales - Victorville  (442) 233-3364   \n",
       "8  Avis Car Sales - Victorville  (442) 233-3364   \n",
       "9  Penske Cadillac of South Bay  (424) 306-0815   \n",
       "\n",
       "                                         Description  price($)  year  \\\n",
       "0  Dealer's Description\\nTravel in style behind t...     36999  2017   \n",
       "1  Dealer's Description\\nCARFAX One-Owner. Clean ...     39415  2017   \n",
       "2  Dealer's Description\\nWheels: 17\" Silver-Paint...     19697  2020   \n",
       "3  Dealer's Description\\nCARFAX One-Owner. Clean ...     24799  2017   \n",
       "4  Dealer's Description\\nCARFAX One-Owner. Clean ...     24299  2017   \n",
       "5  Dealer's Description\\nCARFAX One-Owner. Clean ...     29205  2020   \n",
       "6  Dealer's Description\\nAll prices are cash only...     11980  2017   \n",
       "7  Dealer's Description\\nCARFAX One-Owner. Clean ...     40899  2018   \n",
       "8  Dealer's Description\\nCARFAX One-Owner. Clean ...     40199  2018   \n",
       "9  Dealer's Description\\nCrystal White Tricoat 20...     43995  2020   \n",
       "\n",
       "   age_of_car          model location  len_of details Transmission  \\\n",
       "0           7  Mercedes-Benz       CA             412    Automatic   \n",
       "1           7      Chevrolet       CA             560    Automatic   \n",
       "2           4          Honda       CA             419           -1   \n",
       "3           7           Ford       CA             468    Automatic   \n",
       "4           7           Jeep       CA             343    Automatic   \n",
       "5           4          Mazda       CA             595    Automatic   \n",
       "6           7         Nissan       CA             685    Automatic   \n",
       "7           6      Chevrolet       CA             508    Automatic   \n",
       "8           6      Chevrolet       CA             525    Automatic   \n",
       "9           4       Cadillac       CA             649    Automatic   \n",
       "\n",
       "   Mileage(miles) Exterior_Color Interior_Color  Gas_mileage_city(MPG)  \\\n",
       "0           30336         Silver          Black                     17   \n",
       "1           36052          Black          Black                     -1   \n",
       "2           17000           Gray          Black                     30   \n",
       "3           39221           Gray          Black                     17   \n",
       "4           33961          White          Black                     17   \n",
       "5           38417         Silver          Black                     20   \n",
       "6          115355         Silver          Black                     26   \n",
       "7           27980          Black             -1                     -1   \n",
       "8           33232         Silver             -1                     -1   \n",
       "9            3046          White          Black                     18   \n",
       "\n",
       "   Gas_mileage_HW(MPG)  Gas_mileage_comb(MPG) Engine         Drivetrain  \\\n",
       "0                   22                     19     V6    All-Wheel Drive   \n",
       "1                   -1                     -1     V8  Front-Wheel Drive   \n",
       "2                   38                     33     I4  Front-Wheel Drive   \n",
       "3                   24                     20     V6  Front-Wheel Drive   \n",
       "4                   21                     18     V6   Four-Wheel Drive   \n",
       "5                   26                     22     I4    All-Wheel Drive   \n",
       "6                   33                     29     I4  Front-Wheel Drive   \n",
       "7                   -1                     -1     V8  Front-Wheel Drive   \n",
       "8                   -1                     -1     V8  Front-Wheel Drive   \n",
       "9                   25                     21     V6  Front-Wheel Drive   \n",
       "\n",
       "           Fuel_type                                      Major Options  \\\n",
       "0           Gasoline  Bluetooth, Backup Camera, Sunroof/Moonroof, He...   \n",
       "1  Flex Fuel Vehicle  Leather Seats, Power Package, Navigation Syste...   \n",
       "2           Gasoline  Bluetooth, Backup Camera, Adaptive Cruise Cont...   \n",
       "3           Gasoline  Navigation System, Alloy Wheels, Third Row Sea...   \n",
       "4           Gasoline                                       Steel Wheels   \n",
       "5           Gasoline  Leather Seats, Sunroof/Moonroof, Power Package...   \n",
       "6           Gasoline  Leather Seats, Sunroof/Moonroof, Power Package...   \n",
       "7           Gasoline  Leather Seats, Navigation System, Suspension P...   \n",
       "8           Gasoline  Leather Seats, Navigation System, Suspension P...   \n",
       "9           Gasoline  Leather Seats, Sunroof/Moonroof, Navigation Sy...   \n",
       "\n",
       "   No._of_features  description_len  \n",
       "0                5             2551  \n",
       "1               15             6158  \n",
       "2                5             2683  \n",
       "3                7             3341  \n",
       "4                1             2090  \n",
       "5               14             4152  \n",
       "6               21             1027  \n",
       "7               13             4661  \n",
       "8               14             4617  \n",
       "9               17             3689  "
      ]
     },
     "metadata": {},
     "output_type": "display_data"
    }
   ],
   "source": [
    "display(df.head(10))"
   ]
  },
  {
   "cell_type": "code",
   "execution_count": 76,
   "id": "952befcb",
   "metadata": {},
   "outputs": [
    {
     "name": "stdout",
     "output_type": "stream",
     "text": [
      "<class 'pandas.core.frame.DataFrame'>\n",
      "RangeIndex: 1622 entries, 0 to 1621\n",
      "Data columns (total 25 columns):\n",
      " #   Column                 Non-Null Count  Dtype \n",
      "---  ------                 --------------  ----- \n",
      " 0   title                  1622 non-null   object\n",
      " 1   Location               1622 non-null   object\n",
      " 2   Details                1622 non-null   object\n",
      " 3   Dealer                 1622 non-null   object\n",
      " 4   Contact                1622 non-null   object\n",
      " 5   Description            1622 non-null   object\n",
      " 6   price($)               1622 non-null   int64 \n",
      " 7   year                   1622 non-null   int64 \n",
      " 8   age_of_car             1622 non-null   int64 \n",
      " 9   model                  1622 non-null   object\n",
      " 10  location               1622 non-null   object\n",
      " 11  len_of details         1622 non-null   int64 \n",
      " 12  Transmission           1622 non-null   object\n",
      " 13  Mileage(miles)         1622 non-null   int64 \n",
      " 14  Exterior_Color         1622 non-null   object\n",
      " 15  Interior_Color         1622 non-null   object\n",
      " 16  Gas_mileage_city(MPG)  1622 non-null   int64 \n",
      " 17  Gas_mileage_HW(MPG)    1622 non-null   int64 \n",
      " 18  Gas_mileage_comb(MPG)  1622 non-null   int64 \n",
      " 19  Engine                 1622 non-null   object\n",
      " 20  Drivetrain             1622 non-null   object\n",
      " 21  Fuel_type              1622 non-null   object\n",
      " 22  Major Options          1622 non-null   object\n",
      " 23  No._of_features        1622 non-null   int64 \n",
      " 24  description_len        1622 non-null   int64 \n",
      "dtypes: int64(10), object(15)\n",
      "memory usage: 316.9+ KB\n"
     ]
    }
   ],
   "source": [
    "df.info()"
   ]
  },
  {
   "cell_type": "markdown",
   "id": "334f0dbf",
   "metadata": {},
   "source": [
    "Saving final file into csv form."
   ]
  },
  {
   "cell_type": "code",
   "execution_count": 77,
   "id": "842e158a",
   "metadata": {},
   "outputs": [],
   "source": [
    "df.to_csv(r'C:\\Users\\91810\\project\\car_price clean_data.csv', index= False)\n",
    "\n"
   ]
  },
  {
   "cell_type": "markdown",
   "id": "f7bdb28b",
   "metadata": {},
   "source": [
    "# Next Step\n",
    "Perform EDA and model building in this clean data frame."
   ]
  }
 ],
 "metadata": {
  "kernelspec": {
   "display_name": "Python 3 (ipykernel)",
   "language": "python",
   "name": "python3"
  },
  "language_info": {
   "codemirror_mode": {
    "name": "ipython",
    "version": 3
   },
   "file_extension": ".py",
   "mimetype": "text/x-python",
   "name": "python",
   "nbconvert_exporter": "python",
   "pygments_lexer": "ipython3",
   "version": "3.11.5"
  },
  "toc": {
   "base_numbering": 1,
   "nav_menu": {},
   "number_sections": true,
   "sideBar": true,
   "skip_h1_title": false,
   "title_cell": "Table of Contents",
   "title_sidebar": "Contents",
   "toc_cell": true,
   "toc_position": {
    "height": "calc(100% - 180px)",
    "left": "10px",
    "top": "150px",
    "width": "206.273px"
   },
   "toc_section_display": true,
   "toc_window_display": false
  },
  "varInspector": {
   "cols": {
    "lenName": 16,
    "lenType": 16,
    "lenVar": 40
   },
   "kernels_config": {
    "python": {
     "delete_cmd_postfix": "",
     "delete_cmd_prefix": "del ",
     "library": "var_list.py",
     "varRefreshCmd": "print(var_dic_list())"
    },
    "r": {
     "delete_cmd_postfix": ") ",
     "delete_cmd_prefix": "rm(",
     "library": "var_list.r",
     "varRefreshCmd": "cat(var_dic_list()) "
    }
   },
   "types_to_exclude": [
    "module",
    "function",
    "builtin_function_or_method",
    "instance",
    "_Feature"
   ],
   "window_display": false
  }
 },
 "nbformat": 4,
 "nbformat_minor": 5
}
